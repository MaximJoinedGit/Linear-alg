{
 "cells": [
  {
   "cell_type": "markdown",
   "metadata": {},
   "source": [
    "## <center>Линейная алгебра</center>\n",
    "\n",
    "<hr>"
   ]
  },
  {
   "cell_type": "markdown",
   "metadata": {},
   "source": [
    "### <center>Урок 1.</center>"
   ]
  },
  {
   "cell_type": "markdown",
   "metadata": {},
   "source": [
    "### 1. Установить, какие произведения матриц $AB$ и $BA$ определены, и найти размерности полученных матриц:\n",
    "\n",
    "   а) $A$ — матрица $4\\times 2$, $B$ — матрица $4\\times 2$ Невозможно выполнить произведение\n",
    "    \n",
    "   б) $A$ — матрица $2\\times 5$, $B$ — матрица $5\\times 3$ Невозможно выполнить произведение\n",
    "    \n",
    "   в) $A$ — матрица $8\\times 3$, $B$ — матрица $3\\times 8$ В результате произведения AB получится матрица размерностью $8\\times8$, а в случае BA матрица будет размерностью $3\\times3$\n",
    "    \n",
    "   г) $A$ — квадратная матрица $4\\times 4$, $B$ — квадратная матрица $4\\times 4$ В результате произведения получится матрица размерностью $4\\times4$ в обоих случаях"
   ]
  },
  {
   "cell_type": "markdown",
   "metadata": {},
   "source": [
    "### 2. Найти сумму и произведение матриц $A=\\begin{pmatrix}\n",
    "1 & -2\\\\ \n",
    "3 & 0\n",
    "\\end{pmatrix}$ и $B=\\begin{pmatrix}\n",
    "4 & -1\\\\ \n",
    "0 & 5\n",
    "\\end{pmatrix}.$"
   ]
  },
  {
   "cell_type": "markdown",
   "metadata": {},
   "source": [
    "$A + B = \\begin{pmatrix}\n",
    "1 + 4 & (-2) + (-1)\\\\ \n",
    "3 + 0 & 0 + 5\n",
    "\\end{pmatrix} = \n",
    "\\begin{pmatrix}\n",
    "5 & -3\\\\ \n",
    "3 & 5\n",
    "\\end{pmatrix}$"
   ]
  },
  {
   "cell_type": "markdown",
   "metadata": {},
   "source": [
    "$A \\cdot B = \\begin{pmatrix}\n",
    "1 \\cdot 4 + (-2) \\cdot 0 & 1 \\cdot (-1) + (-2) \\cdot 5\\\\ \n",
    "3 \\cdot 4 + 0 \\cdot 0 & 3 \\cdot (-1) + 0 \\cdot 5\n",
    "\\end{pmatrix} = \n",
    "\\begin{pmatrix}\n",
    "4 & -11\\\\ \n",
    "12 & -3\n",
    "\\end{pmatrix}$"
   ]
  },
  {
   "cell_type": "markdown",
   "metadata": {},
   "source": [
    "### 3. Из закономерностей сложения и умножения матриц на число можно сделать вывод, что матрицы одного размера образуют линейное пространство. Вычислить линейную комбинацию $3A-2B+4C$ для матриц \n",
    "\n",
    "$A=\\begin{pmatrix}\n",
    "1 & 7\\\\ \n",
    "3 & -6\n",
    "\\end{pmatrix}$, $B=\\begin{pmatrix}\n",
    "0 & 5\\\\ \n",
    "2 & -1\n",
    "\\end{pmatrix}$, $C=\\begin{pmatrix}\n",
    "2 & -4\\\\ \n",
    "1 & 1\n",
    "\\end{pmatrix}$"
   ]
  },
  {
   "cell_type": "markdown",
   "metadata": {},
   "source": [
    "$3A - 2B + 4C = 3 \\cdot \\begin{pmatrix}\n",
    "1 & 7\\\\ \n",
    "3 & -6\n",
    "\\end{pmatrix} - 2 \\cdot \\begin{pmatrix}\n",
    "0 & 5\\\\ \n",
    "2 & -1\n",
    "\\end{pmatrix} + 4 \\cdot \\begin{pmatrix}\n",
    "2 & -4\\\\ \n",
    "1 & 1\n",
    "\\end{pmatrix} = \\begin{pmatrix}\n",
    "3 & 21\\\\ \n",
    "9 & -18\n",
    "\\end{pmatrix} - \n",
    "\\begin{pmatrix}\n",
    "0 & 10\\\\ \n",
    "4 & -2\n",
    "\\end{pmatrix} + \n",
    "\\begin{pmatrix}\n",
    "8 & -16\\\\ \n",
    "4 & 4\n",
    "\\end{pmatrix} = \n",
    "\\begin{pmatrix}\n",
    "3 - 0 + 8 & 21 - 10 + (-16) \\\\ \n",
    "9 - 4 + 4 & -18 - (-2) + 4\n",
    "\\end{pmatrix} = \n",
    "\\begin{pmatrix}\n",
    "11 & -5\\\\ \n",
    "9 & -12\n",
    "\\end{pmatrix}\n",
    "$"
   ]
  },
  {
   "cell_type": "markdown",
   "metadata": {},
   "source": [
    "### 4. Дана матрица $A=\\begin{pmatrix}\n",
    "4 & 1\\\\ \n",
    "5 & -2\\\\ \n",
    "2 & 3\n",
    "\\end{pmatrix}$. Вычислить $AA^{T}$ и $A^{T}A$."
   ]
  },
  {
   "cell_type": "markdown",
   "metadata": {},
   "source": [
    "$A=\\begin{pmatrix}\n",
    "4 & 1\\\\ \n",
    "5 & -2\\\\ \n",
    "2 & 3\n",
    "\\end{pmatrix} \\;\\; \n",
    "A^T=\\begin{pmatrix}\n",
    "4 & 5 & 2\\\\ \n",
    "1 & -2 & 3\n",
    "\\end{pmatrix}$"
   ]
  },
  {
   "cell_type": "markdown",
   "metadata": {},
   "source": [
    "$AA^T=\\begin{pmatrix}\n",
    "4 & 1\\\\ \n",
    "5 & -2\\\\ \n",
    "2 & 3\n",
    "\\end{pmatrix} \n",
    "\\cdot \n",
    "\\begin{pmatrix}\n",
    "4 & 5 & 2\\\\ \n",
    "1 & -2 & 3\n",
    "\\end{pmatrix} = \n",
    "\\begin{pmatrix}\n",
    "4 \\cdot 4 + 1 \\cdot 1 & 4 \\cdot 5 + (-2) \\cdot 1 & 4 \\cdot 2 + 1 \\cdot 3\\\\ \n",
    "5 \\cdot 4 + (-2) \\cdot 1 & 5 \\cdot 5 + (-2) \\cdot (-2) & 5 \\cdot 2 + (-2) \\cdot 3\\\\ \n",
    "2 \\cdot 4 + 3 \\cdot 1 & 2 \\cdot 5 + 3 \\cdot (-2) & 2 \\cdot 2 + 3 \\cdot 3\n",
    "\\end{pmatrix} = \n",
    "\\begin{pmatrix}\n",
    "17 & 18 & 11\\\\ \n",
    "18 & 29 & 4\\\\ \n",
    "11 & 4 & 13\n",
    "\\end{pmatrix}$"
   ]
  },
  {
   "cell_type": "markdown",
   "metadata": {},
   "source": [
    "$A^TA=\n",
    "\\begin{pmatrix}\n",
    "4 & 5 & 2\\\\ \n",
    "1 & -2 & 3\n",
    "\\end{pmatrix}\n",
    "\\cdot\n",
    "\\begin{pmatrix}\n",
    "4 & 1\\\\ \n",
    "5 & -2\\\\ \n",
    "2 & 3\n",
    "\\end{pmatrix} = \n",
    "\\begin{pmatrix}\n",
    "4 \\cdot 4 + 5 \\cdot 5 + 2 \\cdot 2 & 4 \\cdot 1 + 5 \\cdot (-2) + 2 \\cdot 3\\\\ \n",
    "1 \\cdot 4 + 5 \\cdot (-2) + 3 \\cdot 2 & 1 \\cdot 1 + (-2) \\cdot (-2) + 3 \\cdot 3\n",
    "\\end{pmatrix} = \n",
    "\\begin{pmatrix}\n",
    "45 & 0\\\\ \n",
    "0 & 14\n",
    "\\end{pmatrix}$"
   ]
  },
  {
   "cell_type": "markdown",
   "metadata": {},
   "source": [
    "### 5. Написать на Python функцию для перемножения двух произвольных матриц, не используя NumPy."
   ]
  },
  {
   "cell_type": "code",
   "execution_count": 1,
   "metadata": {},
   "outputs": [],
   "source": [
    "def mult_matrix(a: list, b: list):\n",
    "    m_a = len(a)\n",
    "    n_a = len(a[0])\n",
    "    m_b = len(b)\n",
    "    n_b = len(b[0])\n",
    "    result = [[0 for _ in range(m_a)] for _ in range(n_b)]\n",
    "    try:\n",
    "        if not m_a == n_b and not m_b == n_a:\n",
    "            raise IndexError\n",
    "        for line in range(m_a):\n",
    "            for value in range(n_b):\n",
    "                result[line][value] += sum([a[line][pos] * b[pos][value] for pos in range(n_a)])\n",
    "        return result\n",
    "    except IndexError:\n",
    "        print('Матрица не удовлетворяет условиям MxN = NxM, либо не является прямоугольной.')"
   ]
  },
  {
   "cell_type": "code",
   "execution_count": 2,
   "metadata": {},
   "outputs": [
    {
     "data": {
      "text/plain": [
       "[[6, 12], [6, 12]]"
      ]
     },
     "execution_count": 2,
     "metadata": {},
     "output_type": "execute_result"
    }
   ],
   "source": [
    "mult_matrix([[1, 2, 3], [1, 2, 3]], [[1, 2], [1, 2], [1, 2]])"
   ]
  },
  {
   "cell_type": "code",
   "execution_count": 3,
   "metadata": {},
   "outputs": [
    {
     "data": {
      "text/plain": [
       "[[1, 2, 3], [1, 2, 3], [1, 2, 3]]"
      ]
     },
     "execution_count": 3,
     "metadata": {},
     "output_type": "execute_result"
    }
   ],
   "source": [
    "mult_matrix([[1, 2, 3], [1, 2, 3], [1, 2, 3]], [[1, 0, 0], [0, 1, 0], [0, 0, 1]])"
   ]
  },
  {
   "cell_type": "code",
   "execution_count": 4,
   "metadata": {},
   "outputs": [
    {
     "name": "stdout",
     "output_type": "stream",
     "text": [
      "Матрица не удовлетворяет условиям MxN = NxM, либо не является прямоугольной.\n"
     ]
    }
   ],
   "source": [
    "mult_matrix([[1, 2, 3, 4, 5, 6]], [[1, 2, 3, 4, 5, 6]])"
   ]
  },
  {
   "cell_type": "markdown",
   "metadata": {},
   "source": [
    "### <center>Урок 2.</center>"
   ]
  },
  {
   "cell_type": "markdown",
   "metadata": {},
   "source": [
    "### 1. Вычислить определитель"
   ]
  },
  {
   "cell_type": "markdown",
   "metadata": {},
   "source": [
    "$det{\\begin{pmatrix}\n",
    "sin(x) & -cos(x)\\\\ \n",
    "cos(x) & sin(x)\n",
    "\\end{pmatrix}} = sin^2(x) + cos^2(x)$"
   ]
  },
  {
   "cell_type": "markdown",
   "metadata": {},
   "source": [
    "$det{\\begin{pmatrix}\n",
    "4 & 2 & 3\\\\ \n",
    "0 & 5 & 1\\\\ \n",
    "0 & 0 & 9\n",
    "\\end{pmatrix}} = \n",
    "4 \\cdot \\begin{pmatrix}\n",
    "5 & 1\\\\ \n",
    "0 & 9\n",
    "\\end{pmatrix} -\n",
    "2 \\cdot \\begin{pmatrix}\n",
    "0 & 1\\\\  \n",
    "0 & 9\n",
    "\\end{pmatrix} +\n",
    "3 \\cdot \\begin{pmatrix}\n",
    "0 & 5\\\\ \n",
    "0 & 0\n",
    "\\end{pmatrix} = \n",
    "4 \\cdot (5 \\cdot 9 - 1 \\cdot 0) - 2 \\cdot (0 \\cdot 9 - 0 \\cdot 1) + 3 \\cdot (0 \\cdot 0 - 5 \\cdot 0) = 180$"
   ]
  },
  {
   "cell_type": "markdown",
   "metadata": {},
   "source": [
    "$det{\\begin{pmatrix}\n",
    "1 & 2 & 3\\\\ \n",
    "4 & 5 & 6\\\\ \n",
    "7 & 8 & 9\n",
    "\\end{pmatrix}} = \n",
    "1 \\cdot \\begin{pmatrix}\n",
    "5 & 6\\\\ \n",
    "8 & 9\n",
    "\\end{pmatrix} -\n",
    "2 \\cdot \\begin{pmatrix}\n",
    "4 & 6\\\\  \n",
    "7 & 9\n",
    "\\end{pmatrix} +\n",
    "3 \\cdot \\begin{pmatrix}\n",
    "4 & 5\\\\ \n",
    "7 & 8\n",
    "\\end{pmatrix} = \n",
    "1 \\cdot (5 \\cdot 9 - 6 \\cdot 8) - 2 \\cdot (4 \\cdot 9 - 6 \\cdot 7) + 3 \\cdot (4 \\cdot 8 - 5 \\cdot 7) = 0$"
   ]
  },
  {
   "cell_type": "markdown",
   "metadata": {},
   "source": [
    "### 2. Определитель матрицы  𝐴  равен  4."
   ]
  },
  {
   "cell_type": "markdown",
   "metadata": {},
   "source": [
    "$det(A^2) = det(A \\cdot A) = det(A) \\cdot det(A) = 16$"
   ]
  },
  {
   "cell_type": "markdown",
   "metadata": {},
   "source": [
    "$det(A^T) = 4$"
   ]
  },
  {
   "cell_type": "markdown",
   "metadata": {},
   "source": [
    "$det(2A) = 2^n \\cdot det(A) = 2^n \\cdot 4$, где n - размерность матрицы"
   ]
  },
  {
   "cell_type": "markdown",
   "metadata": {},
   "source": [
    "### 3. Доказать, что матрица вырожденная."
   ]
  },
  {
   "cell_type": "markdown",
   "metadata": {},
   "source": [
    "$det{\\begin{pmatrix}\n",
    "(-2) & 7 & (-3)\\\\ \n",
    "4 & (-14) & 6\\\\ \n",
    "(-3) & 7 & 13\n",
    "\\end{pmatrix}} = \n",
    "(-2) \\cdot \\begin{pmatrix}\n",
    "(-14) & 6\\\\ \n",
    "7 & 13\n",
    "\\end{pmatrix} -\n",
    "7 \\cdot \\begin{pmatrix}\n",
    "4 & 6\\\\  \n",
    "(-3) & 13\n",
    "\\end{pmatrix} +\n",
    "(-3) \\cdot \\begin{pmatrix}\n",
    "4 & (-14)\\\\ \n",
    "(-3) & 7\n",
    "\\end{pmatrix} = \n",
    "(-2) \\cdot ((-14) \\cdot 13 - 6 \\cdot 7) - 7 \\cdot (4 \\cdot 13 - 6 \\cdot (-3)) - (-3) \\cdot (4 \\cdot 7 - (-14) \\cdot (-3)) = 0$"
   ]
  },
  {
   "cell_type": "markdown",
   "metadata": {},
   "source": [
    "### 4. Найти ранг матрицы"
   ]
  },
  {
   "cell_type": "markdown",
   "metadata": {},
   "source": [
    "#### а) $\\begin{pmatrix}\n",
    "1 & 2 & 3\\\\ \n",
    "1 & 1 & 1\\\\ \n",
    "2 & 3 & 4\n",
    "\\end{pmatrix}$"
   ]
  },
  {
   "cell_type": "markdown",
   "metadata": {},
   "source": [
    "$det{\\begin{pmatrix}\n",
    "1 & 1\\\\ \n",
    "3 & 4\n",
    "\\end{pmatrix}} = 1$"
   ]
  },
  {
   "cell_type": "markdown",
   "metadata": {},
   "source": [
    "$det{\\begin{pmatrix}\n",
    "1 & 2 & 3\\\\ \n",
    "1 & 1 & 1\\\\ \n",
    "2 & 3 & 4\n",
    "\\end{pmatrix}} = \n",
    "1 \\cdot \\begin{pmatrix}\n",
    "1 & 1\\\\ \n",
    "3 & 4\n",
    "\\end{pmatrix} -\n",
    "2 \\cdot \\begin{pmatrix}\n",
    "1 & 1\\\\  \n",
    "2 & 4\n",
    "\\end{pmatrix} +\n",
    "3 \\cdot \\begin{pmatrix}\n",
    "1 & 1\\\\ \n",
    "2 & 3\n",
    "\\end{pmatrix} = 1 \\cdot (4 - 3) - 2 \\cdot (4 - 2) + 3 \\cdot (3 - 2) = 0$"
   ]
  },
  {
   "cell_type": "markdown",
   "metadata": {},
   "source": [
    "#### Таким образом, из всех миноров только миноры первого и второго порядков не равны нулю, следовательно ранг матрицы равен порядку минора наивысшего порядка, отличного от нуля, то есть 2."
   ]
  },
  {
   "cell_type": "markdown",
   "metadata": {},
   "source": [
    "#### б) $\\begin{pmatrix}\n",
    "0 & 0 & 2 & 1\\\\ \n",
    "0 & 0 & 2 & 2\\\\ \n",
    "0 & 0 & 4 & 3\\\\\n",
    "2 & 3 & 5 & 6\n",
    "\\end{pmatrix}$"
   ]
  },
  {
   "cell_type": "markdown",
   "metadata": {},
   "source": [
    "#### Рассматривая данную матрицу, можно сделать закономерный вывод о том, что третья строчка является суммой первых двух. Соответственно, эту строчку можно не рассматривать при определении ранга, а следовательно, ранг матрицы будет три или меньше."
   ]
  },
  {
   "cell_type": "markdown",
   "metadata": {},
   "source": [
    "$det{\\begin{pmatrix}\n",
    "2 & 1\\\\ \n",
    "2 & 2\n",
    "\\end{pmatrix}} = \n",
    "4 - 2 = 2$"
   ]
  },
  {
   "cell_type": "markdown",
   "metadata": {},
   "source": [
    "$det{\\begin{pmatrix}\n",
    "0 & 2 & 2\\\\ \n",
    "0 & 4 & 3\\\\ \n",
    "3 & 5 & 6\n",
    "\\end{pmatrix}} = \n",
    "0 \\cdot \\begin{pmatrix}\n",
    "4 & 3\\\\ \n",
    "5 & 6\n",
    "\\end{pmatrix} -\n",
    "2 \\cdot \\begin{pmatrix}\n",
    "0 & 3\\\\  \n",
    "3 & 6\n",
    "\\end{pmatrix} +\n",
    "2 \\cdot \\begin{pmatrix}\n",
    "0 & 4\\\\ \n",
    "3 & 5\n",
    "\\end{pmatrix} = -6$"
   ]
  },
  {
   "cell_type": "markdown",
   "metadata": {},
   "source": [
    "#### Миноры первого, второго и третьего порядка в данной матрице не равны нулю, следовательно, ранг матрицы равен 3."
   ]
  }
 ],
 "metadata": {
  "kernelspec": {
   "display_name": "Python 3",
   "language": "python",
   "name": "python3"
  },
  "language_info": {
   "codemirror_mode": {
    "name": "ipython",
    "version": 3
   },
   "file_extension": ".py",
   "mimetype": "text/x-python",
   "name": "python",
   "nbconvert_exporter": "python",
   "pygments_lexer": "ipython3",
   "version": "3.8.5"
  }
 },
 "nbformat": 4,
 "nbformat_minor": 4
}
