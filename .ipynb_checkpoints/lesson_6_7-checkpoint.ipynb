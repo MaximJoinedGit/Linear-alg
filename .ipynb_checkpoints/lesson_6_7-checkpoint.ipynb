{
 "cells": [
  {
   "cell_type": "markdown",
   "metadata": {},
   "source": [
    "## <center>Линейная алгебра</center>\n",
    "\n",
    "<hr>"
   ]
  },
  {
   "cell_type": "markdown",
   "metadata": {},
   "source": [
    "### <center>Урок 6.</center>"
   ]
  },
  {
   "cell_type": "markdown",
   "metadata": {},
   "source": [
    "### 1. Решить систему уравнений методом Гаусса:\n",
    "\n",
    "$\\begin{cases}\n",
    "x_{1}+x_{2}-x_{3}-2x_{4}=0, \\\\\n",
    "2x_{1}+x_{2}-x_{3}+x_{4}=-2, \\\\\n",
    "x_{1}+x_{2}-3x_{3}+x_{4}=4.\n",
    "\\end{cases}$"
   ]
  },
  {
   "cell_type": "markdown",
   "metadata": {},
   "source": [
    "#### Вычтем сначала из третьей строчки первую, а затем из второй строчки первую, умноженную на два.\n",
    "$\\tilde{A}=\\begin{pmatrix}\n",
    "\\left.\\begin{matrix}\n",
    "1 & 1 & -1 & -2\\\\ \n",
    "2 & 1 & -1 & 1\\\\ \n",
    "1 & 1 & -3 & 1\n",
    "\\end{matrix}\\right|\n",
    "\\begin{matrix}\n",
    "0\\\\ \n",
    "-2\\\\\n",
    "4\n",
    "\\end{matrix}\n",
    "\\end{pmatrix} = \n",
    "\\begin{pmatrix}\n",
    "\\left.\\begin{matrix}\n",
    "1 & 1 & -1 & -2\\\\ \n",
    "2 & 1 & -1 & 1\\\\ \n",
    "0 & 0 & -2 & 3\n",
    "\\end{matrix}\\right|\n",
    "\\begin{matrix}\n",
    "0\\\\ \n",
    "-2\\\\\n",
    "4\n",
    "\\end{matrix}\n",
    "\\end{pmatrix} = \n",
    "\\begin{pmatrix}\n",
    "\\left.\\begin{matrix}\n",
    "1 & 1 & -1 & -2\\\\ \n",
    "0 & -1 & 1 & 5\\\\ \n",
    "0 & 0 & -2 & 3\n",
    "\\end{matrix}\\right|\n",
    "\\begin{matrix}\n",
    "0\\\\ \n",
    "-2\\\\\n",
    "4\n",
    "\\end{matrix}\n",
    "\\end{pmatrix}$"
   ]
  },
  {
   "cell_type": "markdown",
   "metadata": {},
   "source": [
    "#### Теперь наша система уравнений будет выглядеть так:\n",
    "\n",
    "$\\begin{cases}\n",
    "x_{1}+x_{2}-x_{3}-2x_{4}=0, \\\\\n",
    "-x_{2}+x_{3}+5x_{4}=-2, \\\\\n",
    "-2x_{3}+3x_{4}=4.\n",
    "\\end{cases}$"
   ]
  },
  {
   "cell_type": "markdown",
   "metadata": {},
   "source": [
    "#### Примем $x_{4}$ за с, тогда в общем виде наша система уравнений будет иметь решение:"
   ]
  },
  {
   "cell_type": "markdown",
   "metadata": {},
   "source": [
    "$\\begin{cases}\n",
    "x_{1} + x_{2} - x_{3} - 2x_{4} = 0, \\\\\n",
    "-x_{2} + x_{3} + 5x_{4} = -2, \\\\\n",
    "x_{3} = \\frac{3c - 4}{2}, \\\\\n",
    "x_{4} = c\\\\\n",
    "\\end{cases} = \n",
    "\\begin{cases}\n",
    "x_{1} + x_{2} - x_{3} - 2x_{4} = 0, \\\\\n",
    "x_{2} = 2 + \\frac{3c - 4}{2} + 5c = \\frac{13c}{2}, \\\\\n",
    "x_{3} = \\frac{3c - 4}{2}, \\\\\n",
    "x_{4} = c\\\\\n",
    "\\end{cases} = \n",
    "\\begin{cases}\n",
    "x_{1} = \\frac{3c - 4}{2} - 2 - \\frac{3c - 4}{2} - 5c + 2c = -2 - 3c, \\\\\n",
    "x_{2} = 2 + \\frac{3c - 4}{2} + 5c = \\frac{13c}{2}, \\\\\n",
    "x_{3} = \\frac{3c - 4}{2}, \\\\\n",
    "x_{4} = c\\\\\n",
    "\\end{cases}$"
   ]
  },
  {
   "cell_type": "markdown",
   "metadata": {},
   "source": [
    "#### Сформулируем ответ в общем виде:\n",
    "\n",
    "$\\begin{cases}\n",
    "x_{1} = -2 - 3c, \\\\\n",
    "x_{2} = \\frac{13c}{2}, \\\\\n",
    "x_{3} = \\frac{3c - 4}{2}, \\\\\n",
    "x_{4} = c\\\\\n",
    "\\end{cases}$"
   ]
  },
  {
   "cell_type": "markdown",
   "metadata": {},
   "source": [
    "### 2. Проверить на совместность и выяснить, сколько решений будет иметь система линейных уравнений:\n",
    "\n",
    "а) $\\begin{cases}\n",
    "3x_{1}-x_{2}+x_{3}=4, \\\\\n",
    "2x_{1}-5x_{2}-3x_{3}=-17, \\\\\n",
    "x_{1}+x_{2}-x_{3}=0;\n",
    "\\end{cases}$"
   ]
  },
  {
   "cell_type": "markdown",
   "metadata": {},
   "source": [
    "$\\tilde{A} = \\begin{pmatrix}\n",
    "\\left.\\begin{matrix}\n",
    "3 & -1 & 1\\\\ \n",
    "2 & -5 & -3\\\\ \n",
    "1 & 1 & -1\n",
    "\\end{matrix}\\right|\n",
    "\\begin{matrix}\n",
    "4\\\\ \n",
    "-17\\\\\n",
    "0\n",
    "\\end{matrix}\n",
    "\\end{pmatrix}$"
   ]
  },
  {
   "cell_type": "markdown",
   "metadata": {},
   "source": [
    "#### Переместим третью строку в начало\n",
    "\n",
    "$\\tilde{A} = \\begin{pmatrix}\n",
    "\\left.\\begin{matrix}\n",
    "1 & 1 & -1\\\\\n",
    "3 & -1 & 1\\\\ \n",
    "2 & -5 & -3\\\\ \n",
    "\\end{matrix}\\right|\n",
    "\\begin{matrix}\n",
    "0\\\\ \n",
    "4\\\\\n",
    "-17\n",
    "\\end{matrix}\n",
    "\\end{pmatrix}$"
   ]
  },
  {
   "cell_type": "markdown",
   "metadata": {},
   "source": [
    "#### Вычтем из третьего уравнения первое, умноженное на 2\n",
    "\n",
    "$\\tilde{A} = \\begin{pmatrix}\n",
    "\\left.\\begin{matrix}\n",
    "1 & 1 & -1\\\\\n",
    "3 & -1 & 1\\\\ \n",
    "0 & -7 & -1\\\\ \n",
    "\\end{matrix}\\right|\n",
    "\\begin{matrix}\n",
    "0\\\\ \n",
    "4\\\\\n",
    "-17\n",
    "\\end{matrix}\n",
    "\\end{pmatrix}$"
   ]
  },
  {
   "cell_type": "markdown",
   "metadata": {},
   "source": [
    "#### Вычтем из второго уравнения первое, умноженное на 2\n",
    "\n",
    "$\\tilde{A} = \\begin{pmatrix}\n",
    "\\left.\\begin{matrix}\n",
    "1 & 1 & -1\\\\\n",
    "0 & -4 & 4\\\\ \n",
    "0 & -7 & -1\\\\ \n",
    "\\end{matrix}\\right|\n",
    "\\begin{matrix}\n",
    "0\\\\ \n",
    "4\\\\\n",
    "-17\n",
    "\\end{matrix}\n",
    "\\end{pmatrix}$"
   ]
  },
  {
   "cell_type": "markdown",
   "metadata": {},
   "source": [
    "#### Разделим второе уравнение на 4\n",
    "\n",
    "$\\tilde{A} = \\begin{pmatrix}\n",
    "\\left.\\begin{matrix}\n",
    "1 & 1 & -1\\\\\n",
    "0 & -1 & 1\n",
    "\\\\ \n",
    "0 & -7 & -1\\\\ \n",
    "\\end{matrix}\\right|\n",
    "\\begin{matrix}\n",
    "0\\\\ \n",
    "1\\\\\n",
    "-17\n",
    "\\end{matrix}\n",
    "\\end{pmatrix}$"
   ]
  },
  {
   "cell_type": "markdown",
   "metadata": {},
   "source": [
    "#### Вычтем из третьего уравнения второе, умноженное на 7\n",
    "\n",
    "$\\tilde{A} = \\begin{pmatrix}\n",
    "\\left.\\begin{matrix}\n",
    "1 & 1 & -1\\\\\n",
    "0 & -1 & 1\\\\ \n",
    "0 & 0 & -8\\\\ \n",
    "\\end{matrix}\\right|\n",
    "\\begin{matrix}\n",
    "0\\\\ \n",
    "1\\\\\n",
    "-24\n",
    "\\end{matrix}\n",
    "\\end{pmatrix}$"
   ]
  },
  {
   "cell_type": "markdown",
   "metadata": {},
   "source": [
    "#### Чтобы привести главную диагональ матрицы к единицам, умножим первую строчку на -1, а третью разделим на -8\n",
    "\n",
    "$\\tilde{A} = \\begin{pmatrix}\n",
    "\\left.\\begin{matrix}\n",
    "1 & 1 & -1\\\\\n",
    "0 & 1 & -1\\\\ \n",
    "0 & 0 & 1\\\\ \n",
    "\\end{matrix}\\right|\n",
    "\\begin{matrix}\n",
    "0\\\\ \n",
    "-1\\\\\n",
    "3\n",
    "\\end{matrix}\n",
    "\\end{pmatrix}$"
   ]
  },
  {
   "cell_type": "markdown",
   "metadata": {},
   "source": [
    "#### Система совместна и имеет единственное решение:\n",
    "\n",
    "$\\begin{cases}\n",
    "x_{1} + x_{2} - x_{3} = 0, \\\\\n",
    "x_{2} - x_{3} = -1, \\\\\n",
    "x_{3} = 3;\n",
    "\\end{cases} = \n",
    "\\begin{cases}\n",
    "x_{1} = 1, \\\\\n",
    "x_{2} = 2, \\\\\n",
    "x_{3} = 3;\n",
    "\\end{cases}$"
   ]
  },
  {
   "cell_type": "markdown",
   "metadata": {},
   "source": [
    "б) $\\begin{cases}\n",
    "2x_{1}-4x_{2}+6x_{3}=1, \\\\\n",
    "x_{1}-2x_{2}+3x_{3}=-2, \\\\\n",
    "3x_{1}-6x_{2}+9x_{3}=5;\n",
    "\\end{cases}$"
   ]
  },
  {
   "cell_type": "markdown",
   "metadata": {},
   "source": [
    "#### В этом уравнении первая и третья строки линейно зависимы. Можно домножить второе уравнение на 3 и получить $3x_{1} - 6x_{2} + 9x_{3} = -6$. Левая часть уравнения полностью повторяет левую часть третьего уравнения системы. Но, приравняв левые части уравнений мы получим бессмысленные $-6 = 5$.\n",
    "\n",
    "#### На основании этих рассуждений можно сделать вывод, что система не совместна и решений не имеет."
   ]
  },
  {
   "cell_type": "markdown",
   "metadata": {},
   "source": [
    "в) $\\begin{cases}\n",
    "x_{1}+2x_{2}+5x_{3}=4, \\\\\n",
    "3x_{1}+x_{2}-8x_{3}=-2. \n",
    "\\end{cases}$"
   ]
  },
  {
   "cell_type": "markdown",
   "metadata": {},
   "source": [
    "$\\tilde{A} = \\begin{pmatrix}\n",
    "\\left.\\begin{matrix}\n",
    "1 & 2 & 5\\\\\n",
    "3 & 1 & -8\n",
    "\\end{matrix}\\right|\n",
    "\\begin{matrix}\n",
    "4\\\\ \n",
    "-2\n",
    "\\end{matrix}\n",
    "\\end{pmatrix}$"
   ]
  },
  {
   "cell_type": "markdown",
   "metadata": {},
   "source": [
    "#### Вычтем из второй строки первую, умноженную на 3\n",
    "\n",
    "$\\tilde{A} = \\begin{pmatrix}\n",
    "\\left.\\begin{matrix}\n",
    "1 & 2 & 5\\\\\n",
    "0 & -5 & -23\n",
    "\\end{matrix}\\right|\n",
    "\\begin{matrix}\n",
    "4\\\\ \n",
    "-14\n",
    "\\end{matrix}\n",
    "\\end{pmatrix}$"
   ]
  },
  {
   "cell_type": "markdown",
   "metadata": {},
   "source": [
    "#### Разделим третью строку на -5\n",
    "\n",
    "$\\tilde{A} = \\begin{pmatrix}\n",
    "\\left.\\begin{matrix}\n",
    "1 & 2 & 5\\\\\n",
    "0 & 1 & 23/5\n",
    "\\end{matrix}\\right|\n",
    "\\begin{matrix}\n",
    "4\\\\ \n",
    "14/5\n",
    "\\end{matrix}\n",
    "\\end{pmatrix}$"
   ]
  },
  {
   "cell_type": "markdown",
   "metadata": {},
   "source": [
    "#### Приравняем к константе c $x_{3}$ и запишем новую систему уравнений в общем виде\n",
    "\n",
    "$\\begin{cases}\n",
    "x_{1} + 2x_{2} + 5x_{3} = 4,\\\\\n",
    "x_{2} + 23/5x_{3} = 14/5,\\\\\n",
    "x_{3} = c\n",
    "\\end{cases} = \n",
    "\\begin{cases}\n",
    "x_{1} + 2x_{2} + 5x_{3} = 4,\\\\\n",
    "x_{2} = 14/5 - 23/5c,\\\\\n",
    "x_{3} = c\n",
    "\\end{cases} = \n",
    "\\begin{cases}\n",
    "x_{1} = 21/5c - 8/5,\\\\\n",
    "x_{2} = 14/5 - 23/5x_{3},\\\\\n",
    "x_{3} = c\n",
    "\\end{cases}$"
   ]
  },
  {
   "cell_type": "markdown",
   "metadata": {},
   "source": [
    "### 3. Проверить на совместность и выяснить, сколько решений будет иметь система линейных уравнений, заданная расширенной матрицей\n",
    "\n",
    "$\\tilde{A}=\\begin{pmatrix}\n",
    "\\left.\\begin{matrix}\n",
    "1 & 3 & -2 & 4\\\\ \n",
    "0 & 5 & 0 & 1\\\\ \n",
    "0 & 0 & 3 & 0\\\\ \n",
    "0 & 0 & 0 & 2\n",
    "\\end{matrix}\\right|\n",
    "\\begin{matrix}\n",
    "3\\\\ \n",
    "2\\\\\n",
    "4\\\\\n",
    "1\n",
    "\\end{matrix}\n",
    "\\end{pmatrix}.$"
   ]
  },
  {
   "cell_type": "markdown",
   "metadata": {},
   "source": [
    "$A=\\begin{pmatrix}\n",
    "\\begin{matrix}\n",
    "1 & 3 & -2 & 4\\\\ \n",
    "0 & 5 & 0 & 1\\\\ \n",
    "0 & 0 & 3 & 0\\\\ \n",
    "0 & 0 & 0 & 2\n",
    "\\end{matrix}\n",
    "\\end{pmatrix} = \n",
    "\\begin{pmatrix}\n",
    "\\begin{matrix}\n",
    "1 & 3 & -2 & 4\\\\ \n",
    "0 & 1 & 0 & 0.2\\\\ \n",
    "0 & 0 & 1 & 0\\\\ \n",
    "0 & 0 & 0 & 1\n",
    "\\end{matrix}\n",
    "\\end{pmatrix}$"
   ]
  },
  {
   "cell_type": "markdown",
   "metadata": {},
   "source": [
    "$\\tilde{A}=\\begin{pmatrix}\n",
    "\\left.\\begin{matrix}\n",
    "1 & 3 & -2 & 4\\\\ \n",
    "0 & 5 & 0 & 1\\\\ \n",
    "0 & 0 & 3 & 0\\\\ \n",
    "0 & 0 & 0 & 2\n",
    "\\end{matrix}\\right|\n",
    "\\begin{matrix}\n",
    "3\\\\ \n",
    "2\\\\\n",
    "4\\\\\n",
    "1\n",
    "\\end{matrix}\n",
    "\\end{pmatrix} = \n",
    "\\begin{pmatrix}\n",
    "\\left.\\begin{matrix}\n",
    "1 & 3 & -2 & 4\\\\ \n",
    "0 & 1 & 0 & 0.2\\\\ \n",
    "0 & 0 & 1 & 0\\\\ \n",
    "0 & 0 & 0 & 1\n",
    "\\end{matrix}\\right|\n",
    "\\begin{matrix}\n",
    "3\\\\ \n",
    "0.4\\\\\n",
    "4/3\\\\\n",
    "0.5\n",
    "\\end{matrix}\n",
    "\\end{pmatrix}$"
   ]
  },
  {
   "cell_type": "markdown",
   "metadata": {},
   "source": [
    "#### Ранги этих двух матриц равны количеству неизвестных, и равны между собой. $Rank(A) = Rank(\\tilde{A}) = n = 4$ Следовательно, система определена и имеет единственное решение."
   ]
  },
  {
   "cell_type": "markdown",
   "metadata": {},
   "source": [
    "### 4. Дана система линейных уравнений, заданная расширенной матрицей\n",
    "\n",
    "$\\tilde{A}=\\begin{pmatrix}\n",
    "\\left.\\begin{matrix}\n",
    "1 & 2 & 3\\\\ \n",
    "4 & 5 & 6\\\\ \n",
    "7 & 8 & 9\n",
    "\\end{matrix}\\right|\n",
    "\\begin{matrix}\n",
    "a\\\\ \n",
    "b\\\\\n",
    "c\n",
    "\\end{matrix}\n",
    "\\end{pmatrix}.$\n",
    "\n",
    "### Найти соотношение между параметрами $a$, $b$ и $c$, при которых система является несовместной."
   ]
  },
  {
   "cell_type": "markdown",
   "metadata": {},
   "source": [
    "$\\tilde{A} = \\begin{pmatrix}\n",
    "\\left.\\begin{matrix}\n",
    "1 & 2 & 3\\\\ \n",
    "4 & 5 & 6\\\\ \n",
    "7 & 8 & 9\n",
    "\\end{matrix}\\right|\n",
    "\\begin{matrix}\n",
    "a\\\\ \n",
    "b\\\\\n",
    "c\n",
    "\\end{matrix}\n",
    "\\end{pmatrix}$"
   ]
  },
  {
   "cell_type": "markdown",
   "metadata": {},
   "source": [
    "#### Вычтем из второй строчки первую, умноженную на 4\n",
    "\n",
    "$\\begin{pmatrix}\n",
    "\\left.\\begin{matrix}\n",
    "1 & 2 & 3\\\\ \n",
    "0 & -3 & -6\\\\ \n",
    "7 & 8 & 9\n",
    "\\end{matrix}\\right|\n",
    "\\begin{matrix}\n",
    "a\\\\ \n",
    "b - 4a\\\\\n",
    "c\n",
    "\\end{matrix}\n",
    "\\end{pmatrix}$"
   ]
  },
  {
   "cell_type": "markdown",
   "metadata": {},
   "source": [
    "#### Разделим вторую строчку на -3\n",
    "\n",
    "$\\begin{pmatrix}\n",
    "\\left.\\begin{matrix}\n",
    "1 & 2 & 3\\\\ \n",
    "0 & 1 & 2\\\\ \n",
    "7 & 8 & 9\n",
    "\\end{matrix}\\right|\n",
    "\\begin{matrix}\n",
    "a\\\\ \n",
    "4/3a - b/3\\\\\n",
    "c\n",
    "\\end{matrix}\n",
    "\\end{pmatrix}$"
   ]
  },
  {
   "cell_type": "markdown",
   "metadata": {},
   "source": [
    "#### Вычтем из третьей строки первую, умноженную на 7\n",
    "\n",
    "$\\begin{pmatrix}\n",
    "\\left.\\begin{matrix}\n",
    "1 & 2 & 3\\\\ \n",
    "0 & 1 & 2\\\\ \n",
    "0 & -6 & -12\n",
    "\\end{matrix}\\right|\n",
    "\\begin{matrix}\n",
    "a\\\\ \n",
    "4/3a - b/3\\\\\n",
    "c - 7a\n",
    "\\end{matrix}\n",
    "\\end{pmatrix}$"
   ]
  },
  {
   "cell_type": "markdown",
   "metadata": {},
   "source": [
    "#### А теперь сложим третью строку со второй, умноженной на 6\n",
    "\n",
    "$\\begin{pmatrix}\n",
    "\\left.\\begin{matrix}\n",
    "1 & 2 & 3\\\\ \n",
    "0 & 1 & 2\\\\ \n",
    "0 & 0 & 0\n",
    "\\end{matrix}\\right|\n",
    "\\begin{matrix}\n",
    "a\\\\ \n",
    "4/3a - b/3\\\\\n",
    "a - 2b + c\n",
    "\\end{matrix}\n",
    "\\end{pmatrix}$"
   ]
  },
  {
   "cell_type": "markdown",
   "metadata": {},
   "source": [
    "#### По теореме Кронекера-Капелли для того, чтобы система была несовместной нам необходимо, чтобы $Rank(A) < Rank(\\tilde{A})$. Следовательно, необходимо, чтобы $a - 2b + c \\ne 0$"
   ]
  },
  {
   "cell_type": "markdown",
   "metadata": {},
   "source": [
    "### <center>Урок 7.</center>"
   ]
  },
  {
   "cell_type": "markdown",
   "metadata": {},
   "source": [
    "### 1. Решить систему уравнений методом Крамера:\n",
    "\n",
    "а) $\\begin{cases}\n",
    "x_{1}-2x_{2}=1 \\\\\n",
    "3x_{1}-4x_{2}=7\n",
    "\\end{cases}$"
   ]
  },
  {
   "cell_type": "markdown",
   "metadata": {},
   "source": [
    "$\\begin{pmatrix}\n",
    "\\left.\\begin{matrix}\n",
    "1 & -2 \\\\\n",
    "3 & -4 \\\\ \n",
    "\\end{matrix}\\right|\n",
    "\\begin{matrix}\n",
    "1\\\\ \n",
    "7\\\\\n",
    "\\end{matrix}\n",
    "\\end{pmatrix}$"
   ]
  },
  {
   "cell_type": "markdown",
   "metadata": {},
   "source": [
    "#### $x_i=\\frac{det(\\Delta_{i})}{det(\\Delta)}$"
   ]
  },
  {
   "cell_type": "markdown",
   "metadata": {},
   "source": [
    "#### Найдем определитель матрицы $\\Delta$"
   ]
  },
  {
   "cell_type": "markdown",
   "metadata": {},
   "source": [
    "$\\begin{vmatrix}\n",
    "1 & -2 \\\\\n",
    "3 & -4\n",
    "\\end{vmatrix}=-4+6=2$"
   ]
  },
  {
   "cell_type": "markdown",
   "metadata": {},
   "source": [
    "#### Найдем $\\Delta_{i}$:\n",
    "#### $\\begin{vmatrix}\n",
    "1 & -2 \\\\\n",
    "7 & -4\n",
    "\\end{vmatrix}=-4+14=10$\n",
    "#### $x_1=\\frac{10}{2}=5$\n",
    "#### $\\begin{vmatrix}\n",
    "1 & 1 \\\\\n",
    "3 & 7\n",
    "\\end{vmatrix}=7-3=4$\n",
    "#### $x_2=\\frac{4}{2}=2$"
   ]
  },
  {
   "cell_type": "markdown",
   "metadata": {},
   "source": [
    "б) $\\begin{cases}\n",
    "2x_{1}-x_{2}+5x_{3}=10 \\\\\n",
    "x_{1}+x_{2}-3x_{3}=-2 \\\\\n",
    "2x_{1}+4x_{2}+x_{3}=1\n",
    "\\end{cases}$"
   ]
  },
  {
   "cell_type": "markdown",
   "metadata": {},
   "source": [
    "#### Также, как и в прошлом примере, по методу Крамера найдем определители матриц"
   ]
  },
  {
   "cell_type": "markdown",
   "metadata": {},
   "source": [
    "$\\begin{pmatrix}\n",
    "\\left.\\begin{matrix}\n",
    "2 & -1 & 5 \\\\\n",
    "1 & 1 & -3 \\\\\n",
    "2 & 4 & 1 \\\\\n",
    "\\end{matrix}\\right|\n",
    "\\begin{matrix}\n",
    "10\\\\ \n",
    "-2\\\\\n",
    "1\\\\\n",
    "\\end{matrix}\n",
    "\\end{pmatrix}$"
   ]
  },
  {
   "cell_type": "markdown",
   "metadata": {},
   "source": [
    "$\\Delta = \\begin{vmatrix}\n",
    "2 & -1 & 5 \\\\\n",
    "1 & 1 & -3 \\\\\n",
    "2 & 4 & 1 \\\\\n",
    "\\end{vmatrix}=43$"
   ]
  },
  {
   "cell_type": "markdown",
   "metadata": {},
   "source": [
    "$\\Delta_{1} = \\begin{vmatrix}\n",
    "10 & -1 & 5 \\\\\n",
    "-2 & 1 & -3 \\\\\n",
    "1 & 4 & 1 \\\\\n",
    "\\end{vmatrix}=86$\n",
    "\n",
    "$x_1=\\frac{86}{43}=2$"
   ]
  },
  {
   "cell_type": "markdown",
   "metadata": {},
   "source": [
    "$\\Delta_2 = \\begin{vmatrix}\n",
    "2 & 10 & 5 \\\\\n",
    "1 & -2 & -3 \\\\\n",
    "2 & 1 & 1 \\\\\n",
    "\\end{vmatrix}=-43$\n",
    "\n",
    "$x_2=\\frac{-43}{43}=-1$"
   ]
  },
  {
   "cell_type": "markdown",
   "metadata": {},
   "source": [
    "$\\Delta_3 = \\begin{vmatrix}\n",
    "2 & -1 & 10 \\\\\n",
    "1 & 1 & -2 \\\\\n",
    "2 & 4 & 1 \\\\\n",
    "\\end{vmatrix}=43$\n",
    "\n",
    "$x_3=\\frac{43}{43}=1$"
   ]
  },
  {
   "cell_type": "markdown",
   "metadata": {},
   "source": [
    "### 2*. Найти $L$-матрицу $LU$-разложения для матрицы коэффициентов:\n",
    "\n",
    "а) $A = \\begin{pmatrix}\n",
    "1 & 2 & 4 \\\\ \n",
    "2 & 9 & 12 \\\\ \n",
    "3 & 26 & 30\n",
    "\\end{pmatrix}$"
   ]
  },
  {
   "cell_type": "markdown",
   "metadata": {},
   "source": [
    "$l_{21} = \\frac{a_{21}}{a_{11}} = 2$\n",
    "\n",
    "$l_{31} = \\frac{a_{31}}{a_{11}} = 3$"
   ]
  },
  {
   "cell_type": "markdown",
   "metadata": {},
   "source": [
    "#### На следующем этапе получим матрицу путем вычитания из i-й строки j-ю умноженную на соответствующий коэффициент"
   ]
  },
  {
   "cell_type": "markdown",
   "metadata": {},
   "source": [
    "$A^{(1)} = \\begin{pmatrix}\n",
    "1 & 2 & 4 \\\\ \n",
    "0 & 5 & 4 \\\\ \n",
    "0 & 20 & 18\n",
    "\\end{pmatrix}$"
   ]
  },
  {
   "cell_type": "markdown",
   "metadata": {},
   "source": [
    "$l_{32} = \\frac{a^{(1)}_{32}}{a^{(1)}_{22}} = 4$"
   ]
  },
  {
   "cell_type": "markdown",
   "metadata": {},
   "source": [
    "#### С учетом вычислений и подстановок итоговые матрицы U и L будут выглядеть так:\n",
    "\n",
    "$L = \\begin{pmatrix}\n",
    "1 & 0 & 0 \\\\ \n",
    "2 & 1 & 0 \\\\ \n",
    "3 & 4 & 1\n",
    "\\end{pmatrix}$\n",
    "\n",
    "$U = \\begin{pmatrix}\n",
    "1 & 2 & 4 \\\\ \n",
    "0 & 5 & 4 \\\\ \n",
    "0 & 0 & 2\n",
    "\\end{pmatrix}$"
   ]
  },
  {
   "cell_type": "markdown",
   "metadata": {},
   "source": [
    "б) $\\begin{pmatrix}\n",
    "1 & 1 & 2 & 4\\\\ \n",
    "2 & 5 & 8 & 9\\\\ \n",
    "3 & 18 & 29 & 18\\\\\n",
    "4 & 22 & 53 & 33\n",
    "\\end{pmatrix}$"
   ]
  },
  {
   "cell_type": "markdown",
   "metadata": {},
   "source": [
    "#### Здесь также находим коэффиценты по формуле, затем на каждом этапе получаем матрицу путем вычитания из i-й строки j-ю умноженную на соответствующий коэффициент"
   ]
  },
  {
   "cell_type": "markdown",
   "metadata": {},
   "source": [
    "$l_{21} = \\frac{a_{21}}{a_{11}} = 2$\n",
    "\n",
    "$l_{31} = \\frac{a_{31}}{a_{11}} = 3$\n",
    "\n",
    "$l_{41} = \\frac{a_{41}}{a_{11}} = 4$"
   ]
  },
  {
   "cell_type": "markdown",
   "metadata": {},
   "source": [
    "$A^{(1)} = \\begin{pmatrix}\n",
    "1 & 1 & 2 & 4\\\\ \n",
    "0 & 3 & 4 & 1\\\\ \n",
    "0 & 15 & 23 & 6\\\\\n",
    "0 & 18 & 45 & 17\n",
    "\\end{pmatrix}$"
   ]
  },
  {
   "cell_type": "markdown",
   "metadata": {},
   "source": [
    "$l_{32} = \\frac{a^{(1)}_{32}}{a^{(1)}_{22}} = 5$\n",
    "\n",
    "$l_{42} = \\frac{a^{(1)}_{42}}{a^{(1)}_{22}} = 6$"
   ]
  },
  {
   "cell_type": "markdown",
   "metadata": {},
   "source": [
    "$A^{(2)} = \\begin{pmatrix}\n",
    "1 & 1 & 2 & 4\\\\ \n",
    "0 & 3 & 4 & 1\\\\ \n",
    "0 & 0 & 3 & 1\\\\\n",
    "0 & 0 & 21 & 11\n",
    "\\end{pmatrix}$"
   ]
  },
  {
   "cell_type": "markdown",
   "metadata": {},
   "source": [
    "$l_{43} = \\frac{a^{(2)}_{43}}{a^{(2)}_{33}} = 7$"
   ]
  },
  {
   "cell_type": "markdown",
   "metadata": {},
   "source": [
    "#### Матрицы U и L в этой задаче будут выглядеть так:\n",
    "\n",
    "$U = \\begin{pmatrix}\n",
    "1 & 1 & 2 & 4\\\\ \n",
    "0 & 3 & 4 & 1\\\\ \n",
    "0 & 0 & 3 & 1\\\\\n",
    "0 & 0 & 0 & 4\n",
    "\\end{pmatrix}$\n",
    "\n",
    "$L = \\begin{pmatrix}\n",
    "1 & 0 & 0 & 0\\\\ \n",
    "2 & 1 & 0 & 0\\\\ \n",
    "3 & 5 & 1 & 0\\\\\n",
    "4 & 6 & 7 & 1\n",
    "\\end{pmatrix}$"
   ]
  },
  {
   "cell_type": "markdown",
   "metadata": {},
   "source": [
    "### 3. Решить систему линейных уравнений методом $LU$-разложения\n",
    "\n",
    "$\\begin{cases}\n",
    "2x_{1}+x_{2}+3x_{3}=1 \\\\\n",
    "11x_{1}+7x_{2}+5x_{3}=-6 \\\\\n",
    "9x_{1}+8x_{2}+4x_{3}=-5\n",
    "\\end{cases}$"
   ]
  },
  {
   "cell_type": "markdown",
   "metadata": {},
   "source": [
    "#### Для начала найдем матрицы L и U"
   ]
  },
  {
   "cell_type": "markdown",
   "metadata": {},
   "source": [
    "$l_{21} = \\frac{a_{21}}{a_{11}} = 11/2$\n",
    "\n",
    "$l_{31} = \\frac{a_{31}}{a_{11}} = 9/2$"
   ]
  },
  {
   "cell_type": "markdown",
   "metadata": {},
   "source": [
    "$A^{(1)} = \\begin{pmatrix}\n",
    "2 & 1 & 3 \\\\ \n",
    "0 & 3/2 & -23/2 \\\\ \n",
    "0 & 7/2 & -19/2\n",
    "\\end{pmatrix}$"
   ]
  },
  {
   "cell_type": "markdown",
   "metadata": {},
   "source": [
    "$l_{32} = \\frac{a^{(1)}_{32}}{a^{(1)}_{22}} = 7/3$"
   ]
  },
  {
   "cell_type": "markdown",
   "metadata": {},
   "source": [
    "#### Матрицы будут иметь следующие значения\n",
    "\n",
    "$L = \\begin{pmatrix}\n",
    "1 & 0 & 0 \\\\ \n",
    "11/2 & 1 & 0 \\\\ \n",
    "9/2 & 7/3 & 1\n",
    "\\end{pmatrix}$\n",
    "\n",
    "$U = \\begin{pmatrix}\n",
    "2 & 1 & 3 \\\\ \n",
    "0 & 3/2 & -23/2 \\\\ \n",
    "0 & 0 & 52/3\n",
    "\\end{pmatrix}$"
   ]
  },
  {
   "cell_type": "markdown",
   "metadata": {},
   "source": [
    "#### Решим систему уравнений $Ly = b$\n",
    "\n",
    "$\\begin{cases}\n",
    "y_1 = 1 \\\\\n",
    "11/2y_1 + y_2 = -6 \\\\\n",
    "9/2y_1 + 7/3y_2 + y_3 = -5\n",
    "\\end{cases} = \n",
    "\\begin{cases}\n",
    "y_1 = 1 \\\\\n",
    "y_2 = -23/2 \\\\\n",
    "y_3 = 52/3\n",
    "\\end{cases}$"
   ]
  },
  {
   "cell_type": "markdown",
   "metadata": {},
   "source": [
    "#### Теперь решим систему $Ux = y$"
   ]
  },
  {
   "cell_type": "markdown",
   "metadata": {},
   "source": [
    "$\\begin{cases}\n",
    "2x_1 + x_2 + 3x_3 = 1 \\\\\n",
    "3/2x_2 - 23/2x_3 = -23/2 \\\\\n",
    "52/3x_3 = 52/3\n",
    "\\end{cases} = \n",
    "\\begin{cases}\n",
    "x_1 = -1 \\\\\n",
    "x_2 = 0 \\\\\n",
    "x_3 = 1\n",
    "\\end{cases}$"
   ]
  },
  {
   "cell_type": "markdown",
   "metadata": {},
   "source": [
    "#### 4. Решить систему линейных уравнений методом Холецкого\n",
    "\n",
    "$\\begin{cases}\n",
    "81x_{1}-45x_{2}+45x_{3}=531 \\\\\n",
    "-45x_{1}+50x_{2}-15x_{3}=-460 \\\\\n",
    "45x_{1}-15x_{2}+38x_{3}=193\n",
    "\\end{cases}$"
   ]
  },
  {
   "cell_type": "markdown",
   "metadata": {},
   "source": [
    "#### Для начала найдем матрицу L"
   ]
  },
  {
   "cell_type": "markdown",
   "metadata": {},
   "source": [
    "$l_{11} = \\sqrt{a_{11}} = 9$\n",
    "\n",
    "$l_{21} = \\frac{1}{l_{11}} \\cdot a_{21} = -5$\n",
    "\n",
    "$l_{31} = \\frac{1}{l_{11}} \\cdot a_{31} = 5$\n",
    "\n",
    "$l_{22} = \\sqrt{a_{22} - l^2_{21}} = 5$\n",
    "\n",
    "$l_{32} = \\frac{1}{l_{22}} \\cdot (a_{32} - l_{21} \\cdot l_{31}) = 2$\n",
    "\n",
    "$l_{33} = \\sqrt{a_{33} - l^2_{32} - l^2_{31}} = 3$"
   ]
  },
  {
   "cell_type": "markdown",
   "metadata": {},
   "source": [
    "#### Матрица $L$ и $L^T$ будут иметь значения\n",
    "\n",
    "$L = \\begin{pmatrix}\n",
    "9 & 0 & 0 \\\\ \n",
    "-5 & 5 & 0 \\\\ \n",
    "5 & 2 & 3\n",
    "\\end{pmatrix}$\n",
    "\n",
    "$L^T = \\begin{pmatrix}\n",
    "9 & -5 & 5 \\\\ \n",
    "0 & 5 & 2 \\\\ \n",
    "0 & 0 & 3\n",
    "\\end{pmatrix}$"
   ]
  },
  {
   "cell_type": "markdown",
   "metadata": {},
   "source": [
    "#### Сначала решим систему уравнений $Ly = b$\n",
    "\n",
    "$\\begin{cases}\n",
    "9y_1 = 531 \\\\\n",
    "-5y_1 + 5y_2 = -460 \\\\\n",
    "5y_1 + 2y_2 + 3y_3 = 193\n",
    "\\end{cases} = \n",
    "\\begin{cases}\n",
    "y_1 = 59 \\\\\n",
    "y_2 = -33 \\\\\n",
    "y_3 = -12\n",
    "\\end{cases}$"
   ]
  },
  {
   "cell_type": "markdown",
   "metadata": {},
   "source": [
    "#### И найдем корни системы уравнений, решив $L^Tx = y$\n",
    "\n",
    "$\\begin{cases}\n",
    "9x_1 - 5x_2 + 5x_3 = 59 \\\\\n",
    "5x_2 + 2x_3 = -33 \\\\\n",
    "3x_3 = -12\n",
    "\\end{cases} = \n",
    "\\begin{cases}\n",
    "x_1 = 6 \\\\\n",
    "x_2 = -5 \\\\\n",
    "x_3 = -4\n",
    "\\end{cases}$"
   ]
  }
 ],
 "metadata": {
  "kernelspec": {
   "display_name": "Python 3",
   "language": "python",
   "name": "python3"
  },
  "language_info": {
   "codemirror_mode": {
    "name": "ipython",
    "version": 3
   },
   "file_extension": ".py",
   "mimetype": "text/x-python",
   "name": "python",
   "nbconvert_exporter": "python",
   "pygments_lexer": "ipython3",
   "version": "3.8.5"
  }
 },
 "nbformat": 4,
 "nbformat_minor": 4
}
